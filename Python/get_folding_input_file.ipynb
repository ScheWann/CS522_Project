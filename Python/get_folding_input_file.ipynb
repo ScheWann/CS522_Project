{
 "cells": [
  {
   "cell_type": "code",
   "execution_count": 1,
   "metadata": {},
   "outputs": [],
   "source": [
    "import pandas as pd\n",
    "import os\n",
    "import concurrent.futures"
   ]
  },
  {
   "cell_type": "code",
   "execution_count": 7,
   "metadata": {},
   "outputs": [
    {
     "name": "stderr",
     "output_type": "stream",
     "text": [
      "/var/folders/pm/_db3z8953vb1gtk99jkk_sb80000gn/T/ipykernel_23871/802304638.py:18: SettingWithCopyWarning: \n",
      "A value is trying to be set on a copy of a slice from a DataFrame.\n",
      "Try using .loc[row_indexer,col_indexer] = value instead\n",
      "\n",
      "See the caveats in the documentation: https://pandas.pydata.org/pandas-docs/stable/user_guide/indexing.html#returning-a-view-versus-a-copy\n",
      "  spe_out_df['chr'] = \"chr1\"\n",
      "/var/folders/pm/_db3z8953vb1gtk99jkk_sb80000gn/T/ipykernel_23871/802304638.py:19: SettingWithCopyWarning: \n",
      "A value is trying to be set on a copy of a slice from a DataFrame.\n",
      "Try using .loc[row_indexer,col_indexer] = value instead\n",
      "\n",
      "See the caveats in the documentation: https://pandas.pydata.org/pandas-docs/stable/user_guide/indexing.html#returning-a-view-versus-a-copy\n",
      "  spe_out_df['w'] = [1] * len(spe_out_df)\n"
     ]
    }
   ],
   "source": [
    "def make_dir(d):\n",
    "    '''Utility for making a directory if not existing.'''\n",
    "    if not os.path.exists(d):\n",
    "        os.makedirs(d)\n",
    "        \n",
    "\n",
    "def get_spe_inter(hic_data, alpha=0.05):\n",
    "    '''Filter Hi-C data for significant interactions based on the alpha threshold.'''\n",
    "    hic_spe = hic_data.loc[hic_data['fdr'] < alpha]\n",
    "    return hic_spe\n",
    "\n",
    "def get_fold_inputs(spe_df):\n",
    "    '''Prepare folding input file from the filtered significant interactions.'''    \n",
    "    spe_out_df = spe_df[['ibp','jbp','fq','i1','j1']]\n",
    "    spe_out_df['chr'] = \"chr1\"\n",
    "    spe_out_df['w'] = [1] * len(spe_out_df)\n",
    "    result = spe_out_df[['chr','ibp','jbp','fq','w']]\n",
    "    return result\n",
    "\n",
    "# load all hic data\n",
    "all_hic = pd.read_csv('../Data/chr1.27120000.27895000/hic.clean.1/hic.clean.csv.gz')\n",
    "\n",
    "# call non-random interactions\n",
    "spe_hic = get_spe_inter(all_hic, alpha=0.05)\n",
    "\n",
    "# get the folding input file\n",
    "fold_hic = get_fold_inputs(spe_hic)\n",
    "\n",
    "# Define the output directory and file path\n",
    "output_dir = '../Output'\n",
    "fold_hic_file = 'chr1.27120000.27895000.txt'\n",
    "fold_hic_path = os.path.join(output_dir, fold_hic_file)\n",
    "make_dir(output_dir)\n",
    "fold_hic.to_csv(fold_hic_path, header=None, index=None, sep='\\t', mode='a')"
   ]
  }
 ],
 "metadata": {
  "kernelspec": {
   "display_name": "VDS",
   "language": "python",
   "name": "python3"
  },
  "language_info": {
   "codemirror_mode": {
    "name": "ipython",
    "version": 3
   },
   "file_extension": ".py",
   "mimetype": "text/x-python",
   "name": "python",
   "nbconvert_exporter": "python",
   "pygments_lexer": "ipython3",
   "version": "3.10.13"
  }
 },
 "nbformat": 4,
 "nbformat_minor": 2
}
