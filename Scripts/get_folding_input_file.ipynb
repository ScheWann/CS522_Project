{
 "cells": [
  {
   "cell_type": "code",
   "execution_count": 3,
   "metadata": {},
   "outputs": [],
   "source": [
    "import pandas as pd\n",
    "import os\n",
    "import concurrent.futures\n",
    "import os\n",
    "import requests"
   ]
  },
  {
   "cell_type": "code",
   "execution_count": 4,
   "metadata": {},
   "outputs": [
    {
     "name": "stderr",
     "output_type": "stream",
     "text": [
      "/var/folders/pm/_db3z8953vb1gtk99jkk_sb80000gn/T/ipykernel_55548/2923341863.py:15: SettingWithCopyWarning: \n",
      "A value is trying to be set on a copy of a slice from a DataFrame.\n",
      "Try using .loc[row_indexer,col_indexer] = value instead\n",
      "\n",
      "See the caveats in the documentation: https://pandas.pydata.org/pandas-docs/stable/user_guide/indexing.html#returning-a-view-versus-a-copy\n",
      "  spe_out_df['chr'] = \"chr1\"\n",
      "/var/folders/pm/_db3z8953vb1gtk99jkk_sb80000gn/T/ipykernel_55548/2923341863.py:16: SettingWithCopyWarning: \n",
      "A value is trying to be set on a copy of a slice from a DataFrame.\n",
      "Try using .loc[row_indexer,col_indexer] = value instead\n",
      "\n",
      "See the caveats in the documentation: https://pandas.pydata.org/pandas-docs/stable/user_guide/indexing.html#returning-a-view-versus-a-copy\n",
      "  spe_out_df['w'] = [1] * len(spe_out_df)\n"
     ]
    }
   ],
   "source": [
    "def make_dir(d):\n",
    "    '''Utility for making a directory if not existing.'''\n",
    "    if not os.path.exists(d):\n",
    "        os.makedirs(d)        \n",
    "\n",
    "def get_spe_inter(hic_data, alpha=0.05):\n",
    "    '''Filter Hi-C data for significant interactions based on the alpha threshold.'''\n",
    "    hic_spe = hic_data.loc[hic_data['fdr'] < alpha]\n",
    "    return hic_spe\n",
    "\n",
    "def get_fold_inputs(spe_df):\n",
    "    '''Prepare folding input file from the filtered significant interactions.'''    \n",
    "    spe_out_df = spe_df[['ibp','jbp','fq','i1','j1']]\n",
    "    spe_out_df['chr'] = \"chr1\"\n",
    "    spe_out_df['w'] = [1] * len(spe_out_df)\n",
    "    result = spe_out_df[['chr','ibp','jbp','fq','w']]\n",
    "    return result\n",
    "\n",
    "# load all hic data\n",
    "all_hic = pd.read_csv('../Data/chr1.27120000.27895000/hic.clean.1/hic.clean.csv.gz')\n",
    "\n",
    "# call non-random interactions\n",
    "spe_hic = get_spe_inter(all_hic, alpha=0.05)\n",
    "\n",
    "# get the folding input file\n",
    "fold_hic = get_fold_inputs(spe_hic)\n",
    "\n",
    "# Define the output directory and file path\n",
    "output_dir = '../Folding_input'\n",
    "fold_hic_file = 'chr1.27120000.27895000.txt'\n",
    "fold_hic_path = os.path.join(output_dir, fold_hic_file)\n",
    "make_dir(output_dir)\n",
    "fold_hic.to_csv(fold_hic_path, header=None, index=None, sep='\\t', mode='a')"
   ]
  },
  {
   "cell_type": "code",
   "execution_count": 4,
   "metadata": {},
   "outputs": [
    {
     "name": "stdout",
     "output_type": "stream",
     "text": [
      "Chromosome sizes saved to /Users/siyuanzhao/Documents/GitHub/CS522_Project/Python/chromosome_sizes.txt\n"
     ]
    }
   ],
   "source": [
    "def fetch_chrom_sizes(genome, output_file):\n",
    "    full_file_path = os.path.join(os.getcwd(), output_file)\n",
    "\n",
    "    url = f'http://hgdownload.soe.ucsc.edu/goldenPath/{genome}/bigZips/{genome}.chrom.sizes'\n",
    "    response = requests.get(url)\n",
    "\n",
    "    if response.status_code == 200:\n",
    "        with open(full_file_path, 'w') as f:\n",
    "            for line in response.text.splitlines():\n",
    "                chrom, size = line.split()\n",
    "                f.write(f\"{chrom}\\t{size}\\n\")\n",
    "        print(f\"Chromosome sizes saved to {full_file_path}\")\n",
    "    else:\n",
    "        print(f\"Failed to fetch chromosome sizes for {genome}\")\n",
    "\n",
    "output_file = 'chromosome_sizes.txt'\n",
    "fetch_chrom_sizes('hg38', output_file)"
   ]
  }
 ],
 "metadata": {
  "kernelspec": {
   "display_name": "VDS",
   "language": "python",
   "name": "python3"
  },
  "language_info": {
   "codemirror_mode": {
    "name": "ipython",
    "version": 3
   },
   "file_extension": ".py",
   "mimetype": "text/x-python",
   "name": "python",
   "nbconvert_exporter": "python",
   "pygments_lexer": "ipython3",
   "version": "3.10.13"
  }
 },
 "nbformat": 4,
 "nbformat_minor": 2
}
